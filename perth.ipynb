{
 "cells": [
  {
   "cell_type": "code",
   "execution_count": 1,
   "metadata": {},
   "outputs": [],
   "source": [
    "import gitpath\n",
    "\n",
    "import numpy as np\n",
    "import pandas as pd\n",
    "import matplotlib.pyplot as plt\n",
    "import seaborn as sns\n",
    "%matplotlib inline\n",
    "\n",
    "from sklearn.preprocessing import PowerTransformer, RobustScaler\n",
    "from sklearn.model_selection import train_test_split, cross_val_score, GridSearchCV\n",
    "from sklearn.ensemble import AdaBoostRegressor\n",
    "from sklearn.metrics import mean_squared_error\n",
    "from sklearn.linear_model import Ridge\n",
    "from sklearn.neural_network import MLPRegressor\n",
    "from sklearn.metrics import mean_absolute_error, mean_squared_error, r2_score"
   ]
  },
  {
   "cell_type": "code",
   "execution_count": 12,
   "metadata": {},
   "outputs": [
    {
     "name": "stdout",
     "output_type": "stream",
     "text": [
      "36043\n"
     ]
    }
   ],
   "source": [
    "file_path = str(gitpath.root()) + '/data/WEC_Perth_49.csv'\n",
    "df = pd.read_csv(file_path)\n",
    "\n",
    "print(len(df))"
   ]
  },
  {
   "cell_type": "code",
   "execution_count": 11,
   "metadata": {},
   "outputs": [
    {
     "name": "stdout",
     "output_type": "stream",
     "text": [
      "Linear Regression MAPE: 0.94%\n",
      "Random Forest MAPE: 0.28%\n",
      "Gradient Boosting MAPE: 0.55%\n",
      "Ensemble Model MAPE: 0.53%\n"
     ]
    }
   ],
   "source": [
    "import pandas as pd\n",
    "from sklearn.model_selection import train_test_split\n",
    "from sklearn.preprocessing import StandardScaler\n",
    "from sklearn.linear_model import LinearRegression\n",
    "from sklearn.ensemble import RandomForestRegressor, GradientBoostingRegressor, VotingRegressor\n",
    "from sklearn.metrics import mean_absolute_percentage_error\n",
    "\n",
    "# Assuming df is already loaded\n",
    "X = df.iloc[:, :98]  # First 98 columns as features\n",
    "y = df.iloc[:, -1]   # Last column as target\n",
    "\n",
    "# Standardizing the features\n",
    "scaler = StandardScaler()\n",
    "X_scaled = scaler.fit_transform(X)\n",
    "\n",
    "# Splitting the data into train and test sets\n",
    "X_train, X_test, y_train, y_test = train_test_split(X_scaled, y, test_size=0.25, random_state=0)\n",
    "\n",
    "# Initialize the models\n",
    "lr = LinearRegression()\n",
    "rf = RandomForestRegressor(n_estimators=100, random_state=0)\n",
    "gb = GradientBoostingRegressor(n_estimators=100, random_state=0)\n",
    "\n",
    "# Fit the models on the training data\n",
    "lr.fit(X_train, y_train)\n",
    "rf.fit(X_train, y_train)\n",
    "gb.fit(X_train, y_train)\n",
    "\n",
    "# Predict on the test data\n",
    "y_pred_lr = lr.predict(X_test)\n",
    "y_pred_rf = rf.predict(X_test)\n",
    "y_pred_gb = gb.predict(X_test)\n",
    "\n",
    "# Calculate the MAPE for each model\n",
    "mape_lr = mean_absolute_percentage_error(y_test, y_pred_lr)\n",
    "mape_rf = mean_absolute_percentage_error(y_test, y_pred_rf)\n",
    "mape_gb = mean_absolute_percentage_error(y_test, y_pred_gb)\n",
    "\n",
    "# Print MAPE for each model\n",
    "print(f\"Linear Regression MAPE: {mape_lr * 100:.2f}%\")\n",
    "print(f\"Random Forest MAPE: {mape_rf * 100:.2f}%\")\n",
    "print(f\"Gradient Boosting MAPE: {mape_gb * 100:.2f}%\")\n",
    "\n",
    "# Ensemble the models using Voting Regressor\n",
    "ensemble_model = VotingRegressor(estimators=[('lr', lr), ('rf', rf), ('gb', gb)])\n",
    "ensemble_model.fit(X_train, y_train)\n",
    "\n",
    "# Predict with the ensemble model\n",
    "y_pred_ensemble = ensemble_model.predict(X_test)\n",
    "\n",
    "# Calculate the MAPE for the ensemble model\n",
    "mape_ensemble = mean_absolute_percentage_error(y_test, y_pred_ensemble)\n",
    "\n",
    "# Print MAPE for the ensemble model\n",
    "print(f\"Ensemble Model MAPE: {mape_ensemble * 100:.2f}%\")\n"
   ]
  },
  {
   "cell_type": "code",
   "execution_count": 19,
   "metadata": {},
   "outputs": [
    {
     "name": "stdout",
     "output_type": "stream",
     "text": [
      "^C\n"
     ]
    }
   ],
   "source": [
    "! pip uninstall tensorflow\n",
    "# import tensorflow as tf\n",
    "# from tensorflow.keras.models import Sequential\n",
    "# from tensorflow.keras.layers import Dense\n",
    "# from sklearn.model_selection import train_test_split\n",
    "# from sklearn.preprocessing import StandardScaler\n",
    "\n",
    "# # Assuming X and y are your features and target variable\n",
    "# X_train, X_test, y_train, y_test = train_test_split(X, y, test_size=0.25, random_state=0)\n",
    "\n",
    "# # Standardize the data\n",
    "# scaler = StandardScaler()\n",
    "# X_train_scaled = scaler.fit_transform(X_train)\n",
    "# X_test_scaled = scaler.transform(X_test)\n",
    "\n",
    "# # Define the MLP model with TensorFlow/Keras\n",
    "# model = Sequential()\n",
    "# model.add(Dense(128, input_dim=X_train_scaled.shape[1], activation='relu'))\n",
    "# model.add(Dense(64, activation='relu'))\n",
    "# model.add(Dense(1))\n",
    "\n",
    "# # Compile the model\n",
    "# model.compile(optimizer='adam', loss='mean_squared_error')\n",
    "\n",
    "# # Train the model using multi-core CPUs (TensorFlow automatically uses multiple cores)\n",
    "# model.fit(X_train_scaled, y_train, epochs=10, batch_size=32, verbose=1)\n",
    "\n",
    "# # Evaluate the model on test data\n",
    "# loss = model.evaluate(X_test_scaled, y_test)\n",
    "# print(\"Test Loss:\", loss)"
   ]
  }
 ],
 "metadata": {
  "kernelspec": {
   "display_name": "Qiskit (stable)",
   "language": "python",
   "name": "qiskit-stable"
  },
  "language_info": {
   "codemirror_mode": {
    "name": "ipython",
    "version": 3
   },
   "file_extension": ".py",
   "mimetype": "text/x-python",
   "name": "python",
   "nbconvert_exporter": "python",
   "pygments_lexer": "ipython3",
   "version": "3.11.4"
  }
 },
 "nbformat": 4,
 "nbformat_minor": 2
}
